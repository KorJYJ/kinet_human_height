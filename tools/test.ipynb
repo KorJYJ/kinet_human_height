{
 "cells": [
  {
   "cell_type": "code",
   "execution_count": 1,
   "metadata": {},
   "outputs": [
    {
     "name": "stdout",
     "output_type": "stream",
     "text": [
      "Jupyter environment detected. Enabling Open3D WebVisualizer.\n",
      "[Open3D INFO] WebRTC GUI backend enabled.\n",
      "[Open3D INFO] WebRTCWindowSystem: HTTP handshake server disabled.\n"
     ]
    }
   ],
   "source": [
    "import pyKinectAzure.pykinect_azure as pykinect\n",
    "from pyKinectAzure.pykinect_azure.k4a import _k4a\n",
    "pykinect.initialize_libraries()\n",
    "# Modify camera configuration\n",
    "device_config = pykinect.default_configuration\n",
    "\n",
    "## 카메라 화소 및 depth 마다 Camera Matrix가 다르므로 여건에 맞춰서 설정\n",
    "# Modify camera configuration\n",
    "device_config = pykinect.default_configuration\n",
    "device_config.color_format = pykinect.K4A_IMAGE_FORMAT_COLOR_BGRA32\n",
    "device_config.color_resolution = pykinect.K4A_COLOR_RESOLUTION_720P\n",
    "device_config.depth_mode = pykinect.K4A_DEPTH_MODE_NFOV_UNBINNED\n",
    "device_config.camera_fps = pykinect.K4A_FRAMES_PER_SECOND_15\n",
    "kinect = pykinect.start_device(config=device_config)\n",
    "calibration = kinect.get_calibration(device_config.depth_mode, device_config.color_resolution)"
   ]
  },
  {
   "cell_type": "code",
   "execution_count": 2,
   "metadata": {},
   "outputs": [],
   "source": [
    "cap = kinect.update()\n",
    "ret, color_image = cap.get_transformed_color_image()\n",
    "color_image = color_image[:, :, 0:3]\n",
    "ret_depth, depth_image = cap.get_smooth_depth_image()   "
   ]
  },
  {
   "cell_type": "code",
   "execution_count": 3,
   "metadata": {},
   "outputs": [
    {
     "ename": "",
     "evalue": "",
     "output_type": "error",
     "traceback": [
      "\u001b[1;31mThe Kernel crashed while executing code in the the current cell or a previous cell. Please review the code in the cell(s) to identify a possible cause of the failure. Click <a href='https://aka.ms/vscodeJupyterKernelCrash'>here</a> for more info. View Jupyter <a href='command:jupyter.viewOutput'>log</a> for further details."
     ]
    }
   ],
   "source": [
    "import matplotlib.pyplot as plt\n",
    "\n",
    "plt.imshow(color_image)\n",
    "plt.show()"
   ]
  },
  {
   "cell_type": "code",
   "execution_count": null,
   "metadata": {},
   "outputs": [],
   "source": []
  }
 ],
 "metadata": {
  "kernelspec": {
   "display_name": "Python 3.6.13 ('tracking')",
   "language": "python",
   "name": "python3"
  },
  "language_info": {
   "codemirror_mode": {
    "name": "ipython",
    "version": 3
   },
   "file_extension": ".py",
   "mimetype": "text/x-python",
   "name": "python",
   "nbconvert_exporter": "python",
   "pygments_lexer": "ipython3",
   "version": "3.6.13"
  },
  "orig_nbformat": 4,
  "vscode": {
   "interpreter": {
    "hash": "6d7e4b1d1dc4f2212ce94db4835474a088947d9bea7d8da061d106d0b4727399"
   }
  }
 },
 "nbformat": 4,
 "nbformat_minor": 2
}
